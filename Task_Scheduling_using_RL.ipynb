{
  "nbformat": 4,
  "nbformat_minor": 5,
  "metadata": {
    "kernelspec": {
      "display_name": "Python 3",
      "language": "python",
      "name": "python3"
    },
    "language_info": {
      "codemirror_mode": {
        "name": "ipython",
        "version": 3
      },
      "file_extension": ".py",
      "mimetype": "text/x-python",
      "name": "python",
      "nbconvert_exporter": "python",
      "pygments_lexer": "ipython3",
      "version": "3.9.2"
    },
    "colab": {
      "name": "Task Scheduling using RL.ipynb",
      "provenance": [],
      "collapsed_sections": []
    },
    "accelerator": "TPU"
  },
  "cells": [
    {
      "cell_type": "markdown",
      "metadata": {
        "id": "OeAVPULt7XeO"
      },
      "source": [
        "# DEPARTMENT OF INFORMATION TECHNOLOGY\n",
        "# Operating Systems - IT253 Mini Project\n",
        "\n",
        "Gaurang Jitendra Velingkar<br>\n",
        "Jason Krithik Kumar<br>\n",
        "Rakshita Varadarajan<br>\n",
        "Sidharth Lanka\n",
        "\n"
      ],
      "id": "OeAVPULt7XeO"
    },
    {
      "cell_type": "code",
      "metadata": {
        "colab": {
          "base_uri": "https://localhost:8080/"
        },
        "id": "b4142f12",
        "outputId": "4d8c3507-01a7-48ec-90d1-f5fd005ecca0"
      },
      "source": [
        "!pip install tensorflow==2.4.1\n",
        "!pip install gym\n",
        "!pip install keras\n",
        "!pip install keras-rl2"
      ],
      "id": "b4142f12",
      "execution_count": 12,
      "outputs": [
        {
          "output_type": "stream",
          "text": [
            "Requirement already satisfied: tensorflow==2.4.1 in /usr/local/lib/python3.7/dist-packages (2.4.1)\n",
            "Requirement already satisfied: astunparse~=1.6.3 in /usr/local/lib/python3.7/dist-packages (from tensorflow==2.4.1) (1.6.3)\n",
            "Requirement already satisfied: opt-einsum~=3.3.0 in /usr/local/lib/python3.7/dist-packages (from tensorflow==2.4.1) (3.3.0)\n",
            "Requirement already satisfied: protobuf>=3.9.2 in /usr/local/lib/python3.7/dist-packages (from tensorflow==2.4.1) (3.12.4)\n",
            "Requirement already satisfied: numpy~=1.19.2 in /usr/local/lib/python3.7/dist-packages (from tensorflow==2.4.1) (1.19.5)\n",
            "Requirement already satisfied: absl-py~=0.10 in /usr/local/lib/python3.7/dist-packages (from tensorflow==2.4.1) (0.12.0)\n",
            "Requirement already satisfied: keras-preprocessing~=1.1.2 in /usr/local/lib/python3.7/dist-packages (from tensorflow==2.4.1) (1.1.2)\n",
            "Requirement already satisfied: typing-extensions~=3.7.4 in /usr/local/lib/python3.7/dist-packages (from tensorflow==2.4.1) (3.7.4.3)\n",
            "Requirement already satisfied: grpcio~=1.32.0 in /usr/local/lib/python3.7/dist-packages (from tensorflow==2.4.1) (1.32.0)\n",
            "Requirement already satisfied: google-pasta~=0.2 in /usr/local/lib/python3.7/dist-packages (from tensorflow==2.4.1) (0.2.0)\n",
            "Requirement already satisfied: termcolor~=1.1.0 in /usr/local/lib/python3.7/dist-packages (from tensorflow==2.4.1) (1.1.0)\n",
            "Requirement already satisfied: gast==0.3.3 in /usr/local/lib/python3.7/dist-packages (from tensorflow==2.4.1) (0.3.3)\n",
            "Requirement already satisfied: wheel~=0.35 in /usr/local/lib/python3.7/dist-packages (from tensorflow==2.4.1) (0.36.2)\n",
            "Requirement already satisfied: tensorboard~=2.4 in /usr/local/lib/python3.7/dist-packages (from tensorflow==2.4.1) (2.4.1)\n",
            "Requirement already satisfied: tensorflow-estimator<2.5.0,>=2.4.0 in /usr/local/lib/python3.7/dist-packages (from tensorflow==2.4.1) (2.4.0)\n",
            "Requirement already satisfied: h5py~=2.10.0 in /usr/local/lib/python3.7/dist-packages (from tensorflow==2.4.1) (2.10.0)\n",
            "Requirement already satisfied: flatbuffers~=1.12.0 in /usr/local/lib/python3.7/dist-packages (from tensorflow==2.4.1) (1.12)\n",
            "Requirement already satisfied: six~=1.15.0 in /usr/local/lib/python3.7/dist-packages (from tensorflow==2.4.1) (1.15.0)\n",
            "Requirement already satisfied: wrapt~=1.12.1 in /usr/local/lib/python3.7/dist-packages (from tensorflow==2.4.1) (1.12.1)\n",
            "Requirement already satisfied: setuptools in /usr/local/lib/python3.7/dist-packages (from protobuf>=3.9.2->tensorflow==2.4.1) (54.2.0)\n",
            "Requirement already satisfied: tensorboard-plugin-wit>=1.6.0 in /usr/local/lib/python3.7/dist-packages (from tensorboard~=2.4->tensorflow==2.4.1) (1.8.0)\n",
            "Requirement already satisfied: google-auth-oauthlib<0.5,>=0.4.1 in /usr/local/lib/python3.7/dist-packages (from tensorboard~=2.4->tensorflow==2.4.1) (0.4.3)\n",
            "Requirement already satisfied: requests<3,>=2.21.0 in /usr/local/lib/python3.7/dist-packages (from tensorboard~=2.4->tensorflow==2.4.1) (2.23.0)\n",
            "Requirement already satisfied: werkzeug>=0.11.15 in /usr/local/lib/python3.7/dist-packages (from tensorboard~=2.4->tensorflow==2.4.1) (1.0.1)\n",
            "Requirement already satisfied: markdown>=2.6.8 in /usr/local/lib/python3.7/dist-packages (from tensorboard~=2.4->tensorflow==2.4.1) (3.3.4)\n",
            "Requirement already satisfied: google-auth<2,>=1.6.3 in /usr/local/lib/python3.7/dist-packages (from tensorboard~=2.4->tensorflow==2.4.1) (1.28.0)\n",
            "Requirement already satisfied: requests-oauthlib>=0.7.0 in /usr/local/lib/python3.7/dist-packages (from google-auth-oauthlib<0.5,>=0.4.1->tensorboard~=2.4->tensorflow==2.4.1) (1.3.0)\n",
            "Requirement already satisfied: idna<3,>=2.5 in /usr/local/lib/python3.7/dist-packages (from requests<3,>=2.21.0->tensorboard~=2.4->tensorflow==2.4.1) (2.10)\n",
            "Requirement already satisfied: chardet<4,>=3.0.2 in /usr/local/lib/python3.7/dist-packages (from requests<3,>=2.21.0->tensorboard~=2.4->tensorflow==2.4.1) (3.0.4)\n",
            "Requirement already satisfied: urllib3!=1.25.0,!=1.25.1,<1.26,>=1.21.1 in /usr/local/lib/python3.7/dist-packages (from requests<3,>=2.21.0->tensorboard~=2.4->tensorflow==2.4.1) (1.24.3)\n",
            "Requirement already satisfied: certifi>=2017.4.17 in /usr/local/lib/python3.7/dist-packages (from requests<3,>=2.21.0->tensorboard~=2.4->tensorflow==2.4.1) (2020.12.5)\n",
            "Requirement already satisfied: importlib-metadata; python_version < \"3.8\" in /usr/local/lib/python3.7/dist-packages (from markdown>=2.6.8->tensorboard~=2.4->tensorflow==2.4.1) (3.8.1)\n",
            "Requirement already satisfied: pyasn1-modules>=0.2.1 in /usr/local/lib/python3.7/dist-packages (from google-auth<2,>=1.6.3->tensorboard~=2.4->tensorflow==2.4.1) (0.2.8)\n",
            "Requirement already satisfied: rsa<5,>=3.1.4; python_version >= \"3.6\" in /usr/local/lib/python3.7/dist-packages (from google-auth<2,>=1.6.3->tensorboard~=2.4->tensorflow==2.4.1) (4.7.2)\n",
            "Requirement already satisfied: cachetools<5.0,>=2.0.0 in /usr/local/lib/python3.7/dist-packages (from google-auth<2,>=1.6.3->tensorboard~=2.4->tensorflow==2.4.1) (4.2.1)\n",
            "Requirement already satisfied: oauthlib>=3.0.0 in /usr/local/lib/python3.7/dist-packages (from requests-oauthlib>=0.7.0->google-auth-oauthlib<0.5,>=0.4.1->tensorboard~=2.4->tensorflow==2.4.1) (3.1.0)\n",
            "Requirement already satisfied: zipp>=0.5 in /usr/local/lib/python3.7/dist-packages (from importlib-metadata; python_version < \"3.8\"->markdown>=2.6.8->tensorboard~=2.4->tensorflow==2.4.1) (3.4.1)\n",
            "Requirement already satisfied: pyasn1<0.5.0,>=0.4.6 in /usr/local/lib/python3.7/dist-packages (from pyasn1-modules>=0.2.1->google-auth<2,>=1.6.3->tensorboard~=2.4->tensorflow==2.4.1) (0.4.8)\n",
            "Requirement already satisfied: gym in /usr/local/lib/python3.7/dist-packages (0.17.3)\n",
            "Requirement already satisfied: pyglet<=1.5.0,>=1.4.0 in /usr/local/lib/python3.7/dist-packages (from gym) (1.5.0)\n",
            "Requirement already satisfied: numpy>=1.10.4 in /usr/local/lib/python3.7/dist-packages (from gym) (1.19.5)\n",
            "Requirement already satisfied: cloudpickle<1.7.0,>=1.2.0 in /usr/local/lib/python3.7/dist-packages (from gym) (1.3.0)\n",
            "Requirement already satisfied: scipy in /usr/local/lib/python3.7/dist-packages (from gym) (1.4.1)\n",
            "Requirement already satisfied: future in /usr/local/lib/python3.7/dist-packages (from pyglet<=1.5.0,>=1.4.0->gym) (0.16.0)\n",
            "Requirement already satisfied: keras in /usr/local/lib/python3.7/dist-packages (2.4.3)\n",
            "Requirement already satisfied: pyyaml in /usr/local/lib/python3.7/dist-packages (from keras) (3.13)\n",
            "Requirement already satisfied: scipy>=0.14 in /usr/local/lib/python3.7/dist-packages (from keras) (1.4.1)\n",
            "Requirement already satisfied: numpy>=1.9.1 in /usr/local/lib/python3.7/dist-packages (from keras) (1.19.5)\n",
            "Requirement already satisfied: h5py in /usr/local/lib/python3.7/dist-packages (from keras) (2.10.0)\n",
            "Requirement already satisfied: six in /usr/local/lib/python3.7/dist-packages (from h5py->keras) (1.15.0)\n",
            "Collecting keras-rl2\n",
            "\u001b[?25l  Downloading https://files.pythonhosted.org/packages/dd/34/94ffeab44eef43e22a01d82aa0ca062a97392c2c2415ba8b210e72053285/keras_rl2-1.0.4-py3-none-any.whl (53kB)\n",
            "\u001b[K     |████████████████████████████████| 61kB 2.7MB/s \n",
            "\u001b[?25hRequirement already satisfied: tensorflow>=2.1.0 in /usr/local/lib/python3.7/dist-packages (from keras-rl2) (2.4.1)\n",
            "Requirement already satisfied: h5py~=2.10.0 in /usr/local/lib/python3.7/dist-packages (from tensorflow>=2.1.0->keras-rl2) (2.10.0)\n",
            "Requirement already satisfied: absl-py~=0.10 in /usr/local/lib/python3.7/dist-packages (from tensorflow>=2.1.0->keras-rl2) (0.12.0)\n",
            "Requirement already satisfied: termcolor~=1.1.0 in /usr/local/lib/python3.7/dist-packages (from tensorflow>=2.1.0->keras-rl2) (1.1.0)\n",
            "Requirement already satisfied: wrapt~=1.12.1 in /usr/local/lib/python3.7/dist-packages (from tensorflow>=2.1.0->keras-rl2) (1.12.1)\n",
            "Requirement already satisfied: gast==0.3.3 in /usr/local/lib/python3.7/dist-packages (from tensorflow>=2.1.0->keras-rl2) (0.3.3)\n",
            "Requirement already satisfied: flatbuffers~=1.12.0 in /usr/local/lib/python3.7/dist-packages (from tensorflow>=2.1.0->keras-rl2) (1.12)\n",
            "Requirement already satisfied: tensorboard~=2.4 in /usr/local/lib/python3.7/dist-packages (from tensorflow>=2.1.0->keras-rl2) (2.4.1)\n",
            "Requirement already satisfied: google-pasta~=0.2 in /usr/local/lib/python3.7/dist-packages (from tensorflow>=2.1.0->keras-rl2) (0.2.0)\n",
            "Requirement already satisfied: wheel~=0.35 in /usr/local/lib/python3.7/dist-packages (from tensorflow>=2.1.0->keras-rl2) (0.36.2)\n",
            "Requirement already satisfied: protobuf>=3.9.2 in /usr/local/lib/python3.7/dist-packages (from tensorflow>=2.1.0->keras-rl2) (3.12.4)\n",
            "Requirement already satisfied: typing-extensions~=3.7.4 in /usr/local/lib/python3.7/dist-packages (from tensorflow>=2.1.0->keras-rl2) (3.7.4.3)\n",
            "Requirement already satisfied: tensorflow-estimator<2.5.0,>=2.4.0 in /usr/local/lib/python3.7/dist-packages (from tensorflow>=2.1.0->keras-rl2) (2.4.0)\n",
            "Requirement already satisfied: keras-preprocessing~=1.1.2 in /usr/local/lib/python3.7/dist-packages (from tensorflow>=2.1.0->keras-rl2) (1.1.2)\n",
            "Requirement already satisfied: six~=1.15.0 in /usr/local/lib/python3.7/dist-packages (from tensorflow>=2.1.0->keras-rl2) (1.15.0)\n",
            "Requirement already satisfied: numpy~=1.19.2 in /usr/local/lib/python3.7/dist-packages (from tensorflow>=2.1.0->keras-rl2) (1.19.5)\n",
            "Requirement already satisfied: astunparse~=1.6.3 in /usr/local/lib/python3.7/dist-packages (from tensorflow>=2.1.0->keras-rl2) (1.6.3)\n",
            "Requirement already satisfied: grpcio~=1.32.0 in /usr/local/lib/python3.7/dist-packages (from tensorflow>=2.1.0->keras-rl2) (1.32.0)\n",
            "Requirement already satisfied: opt-einsum~=3.3.0 in /usr/local/lib/python3.7/dist-packages (from tensorflow>=2.1.0->keras-rl2) (3.3.0)\n",
            "Requirement already satisfied: markdown>=2.6.8 in /usr/local/lib/python3.7/dist-packages (from tensorboard~=2.4->tensorflow>=2.1.0->keras-rl2) (3.3.4)\n",
            "Requirement already satisfied: google-auth<2,>=1.6.3 in /usr/local/lib/python3.7/dist-packages (from tensorboard~=2.4->tensorflow>=2.1.0->keras-rl2) (1.28.0)\n",
            "Requirement already satisfied: werkzeug>=0.11.15 in /usr/local/lib/python3.7/dist-packages (from tensorboard~=2.4->tensorflow>=2.1.0->keras-rl2) (1.0.1)\n",
            "Requirement already satisfied: requests<3,>=2.21.0 in /usr/local/lib/python3.7/dist-packages (from tensorboard~=2.4->tensorflow>=2.1.0->keras-rl2) (2.23.0)\n",
            "Requirement already satisfied: google-auth-oauthlib<0.5,>=0.4.1 in /usr/local/lib/python3.7/dist-packages (from tensorboard~=2.4->tensorflow>=2.1.0->keras-rl2) (0.4.3)\n",
            "Requirement already satisfied: setuptools>=41.0.0 in /usr/local/lib/python3.7/dist-packages (from tensorboard~=2.4->tensorflow>=2.1.0->keras-rl2) (54.2.0)\n",
            "Requirement already satisfied: tensorboard-plugin-wit>=1.6.0 in /usr/local/lib/python3.7/dist-packages (from tensorboard~=2.4->tensorflow>=2.1.0->keras-rl2) (1.8.0)\n",
            "Requirement already satisfied: importlib-metadata; python_version < \"3.8\" in /usr/local/lib/python3.7/dist-packages (from markdown>=2.6.8->tensorboard~=2.4->tensorflow>=2.1.0->keras-rl2) (3.8.1)\n",
            "Requirement already satisfied: cachetools<5.0,>=2.0.0 in /usr/local/lib/python3.7/dist-packages (from google-auth<2,>=1.6.3->tensorboard~=2.4->tensorflow>=2.1.0->keras-rl2) (4.2.1)\n",
            "Requirement already satisfied: rsa<5,>=3.1.4; python_version >= \"3.6\" in /usr/local/lib/python3.7/dist-packages (from google-auth<2,>=1.6.3->tensorboard~=2.4->tensorflow>=2.1.0->keras-rl2) (4.7.2)\n",
            "Requirement already satisfied: pyasn1-modules>=0.2.1 in /usr/local/lib/python3.7/dist-packages (from google-auth<2,>=1.6.3->tensorboard~=2.4->tensorflow>=2.1.0->keras-rl2) (0.2.8)\n",
            "Requirement already satisfied: chardet<4,>=3.0.2 in /usr/local/lib/python3.7/dist-packages (from requests<3,>=2.21.0->tensorboard~=2.4->tensorflow>=2.1.0->keras-rl2) (3.0.4)\n",
            "Requirement already satisfied: idna<3,>=2.5 in /usr/local/lib/python3.7/dist-packages (from requests<3,>=2.21.0->tensorboard~=2.4->tensorflow>=2.1.0->keras-rl2) (2.10)\n",
            "Requirement already satisfied: certifi>=2017.4.17 in /usr/local/lib/python3.7/dist-packages (from requests<3,>=2.21.0->tensorboard~=2.4->tensorflow>=2.1.0->keras-rl2) (2020.12.5)\n",
            "Requirement already satisfied: urllib3!=1.25.0,!=1.25.1,<1.26,>=1.21.1 in /usr/local/lib/python3.7/dist-packages (from requests<3,>=2.21.0->tensorboard~=2.4->tensorflow>=2.1.0->keras-rl2) (1.24.3)\n",
            "Requirement already satisfied: requests-oauthlib>=0.7.0 in /usr/local/lib/python3.7/dist-packages (from google-auth-oauthlib<0.5,>=0.4.1->tensorboard~=2.4->tensorflow>=2.1.0->keras-rl2) (1.3.0)\n",
            "Requirement already satisfied: zipp>=0.5 in /usr/local/lib/python3.7/dist-packages (from importlib-metadata; python_version < \"3.8\"->markdown>=2.6.8->tensorboard~=2.4->tensorflow>=2.1.0->keras-rl2) (3.4.1)\n",
            "Requirement already satisfied: pyasn1>=0.1.3 in /usr/local/lib/python3.7/dist-packages (from rsa<5,>=3.1.4; python_version >= \"3.6\"->google-auth<2,>=1.6.3->tensorboard~=2.4->tensorflow>=2.1.0->keras-rl2) (0.4.8)\n",
            "Requirement already satisfied: oauthlib>=3.0.0 in /usr/local/lib/python3.7/dist-packages (from requests-oauthlib>=0.7.0->google-auth-oauthlib<0.5,>=0.4.1->tensorboard~=2.4->tensorflow>=2.1.0->keras-rl2) (3.1.0)\n",
            "Installing collected packages: keras-rl2\n",
            "Successfully installed keras-rl2-1.0.4\n"
          ],
          "name": "stdout"
        }
      ]
    },
    {
      "cell_type": "markdown",
      "metadata": {
        "id": "6qe6U1_17be5"
      },
      "source": [
        "Environment"
      ],
      "id": "6qe6U1_17be5"
    },
    {
      "cell_type": "code",
      "metadata": {
        "id": "a5a43b47"
      },
      "source": [
        "from gym import Env\n",
        "from gym.spaces import Discrete, Box\n",
        "import numpy as np\n",
        "import random"
      ],
      "id": "a5a43b47",
      "execution_count": 13,
      "outputs": []
    },
    {
      "cell_type": "code",
      "metadata": {
        "id": "3cc95d1f"
      },
      "source": [
        "class TaskEnv(Env):\n",
        "    #   \tInit function to initialize environment state, it takes number of resources and no of \n",
        "    #  \tTasks in a batch and creates a state representation of the resources.\n",
        "    def __init__(self, resources=[90, 90], num_tasks=5):\n",
        "        # Actions we can take, down, stay, up\n",
        "        self.action_space = Discrete(num_tasks)\n",
        "        # Possible values for memory and cpu utilisation array\n",
        "        self.observation_space = Box(low=0, high=90, shape=(num_tasks, len(resources)))\n",
        "        ### initially, no task are chosen\n",
        "        self.state_ = np.zeros((num_tasks, 1), dtype=int)\n",
        "        self.limit_ = 0\n",
        "        for lim in resources:\n",
        "            self.state_ = np.append(self.state_, np.random.randint(lim, size=(num_tasks, 1)), axis=1)\n",
        "            \n",
        "        self.reward_ = 0\n",
        "        for lim in resources:\n",
        "            self.limit_+=lim   #Set the total resource limit as sum of resources\n",
        "       \n",
        "        self.num_tasks_ = num_tasks\n",
        "        self.resources_ = resources\n",
        "\n",
        "    #     Return the sum of a one dimensional vector  \n",
        "    def getSum(self, x ):\n",
        "        if x[0] == 1:\n",
        "            return sum(x)-1\n",
        "        else:\n",
        "            return 0    \n",
        "    \n",
        "    #This function defines the logic behind changing the states and deciding rewards based on the input provided by agent in terms of action.\n",
        "    #Input: index of the selected task in state table\n",
        "    #Output: \n",
        "    #New state (np.array)\n",
        "    #Reward (INT) \n",
        "    #Done:  Job processing done or not flag.\n",
        "    def step(self, actionIdx):\n",
        "        ### update reward\n",
        "        self.reward_ = 0\n",
        "        reward = 0\n",
        "        done = False\n",
        "        #update the state based on action\n",
        "        #case 1, if same task selected then penalize the agent\n",
        "        if self.state_[actionIdx][0] == 1:\n",
        "          # get the sum for selected task\n",
        "            sum_res = np.sum(self.state_[actionIdx], axis=0)\n",
        "            reward = -sum_res/10;\n",
        "            return self.state_,reward,done,{}\n",
        "        else:\n",
        "            self.state_[actionIdx][0] = 1\n",
        "       \n",
        "        #collect all the resources for this batch until now.\n",
        "        totReward = sum(np.apply_along_axis( self.getSum, axis=1, arr=self.state_ ))\n",
        "        # get the sum for selected task\n",
        "        sum_res = np.sum(self.state_[actionIdx], axis=0) \n",
        "        ones = np.sum(self.state_, axis=0)\n",
        "        if totReward <= self.limit_:\n",
        "            if ones[0] == 5:\n",
        "              done = True\n",
        "            reward = sum_res\n",
        "        else:\n",
        "            reward = -sum_res/10;\n",
        "            done = True \n",
        "            \n",
        "        return self.state_,reward,done,{}\n",
        "\n",
        "    # render: Print current state\n",
        "    def render(self):\n",
        "        # Implement viz\n",
        "        print(self.state_)\n",
        "    \n",
        "    # Set state to one given by user\n",
        "    def set_state(self, state):\n",
        "        self.reset()\n",
        "        self.state_ = state\n",
        "\n",
        "    # reset: Reset the environment state for the new batch of incoming jobs\n",
        "    def reset(self):\n",
        "        state = np.zeros((self.num_tasks_, 1), dtype=int)\n",
        "        for lim in self.resources_: \n",
        "            state = np.append(state, np.random.randint(lim, size=(self.num_tasks_,1)), axis=1)\n",
        "        self.state_ = state\n",
        "        self.reward_ = 0\n",
        "        return self.state_"
      ],
      "id": "3cc95d1f",
      "execution_count": 14,
      "outputs": []
    },
    {
      "cell_type": "code",
      "metadata": {
        "id": "bb04959a"
      },
      "source": [
        "env = TaskEnv()"
      ],
      "id": "bb04959a",
      "execution_count": 15,
      "outputs": []
    },
    {
      "cell_type": "code",
      "metadata": {
        "colab": {
          "base_uri": "https://localhost:8080/"
        },
        "id": "6c0c53f1",
        "outputId": "efbef488-93cc-42e8-b6ed-bc032600751b"
      },
      "source": [
        "env.observation_space.sample()"
      ],
      "id": "6c0c53f1",
      "execution_count": 16,
      "outputs": [
        {
          "output_type": "execute_result",
          "data": {
            "text/plain": [
              "array([[41.87363  , 34.20834  ],\n",
              "       [24.629042 , 52.142124 ],\n",
              "       [68.53885  ,  3.3223493],\n",
              "       [38.631977 , 61.177902 ],\n",
              "       [67.61218  , 10.353863 ]], dtype=float32)"
            ]
          },
          "metadata": {
            "tags": []
          },
          "execution_count": 16
        }
      ]
    },
    {
      "cell_type": "markdown",
      "metadata": {
        "id": "82ODvA8V8a57"
      },
      "source": [
        "## Testing\n",
        "Test if environment works as intended"
      ],
      "id": "82ODvA8V8a57"
    },
    {
      "cell_type": "code",
      "metadata": {
        "colab": {
          "base_uri": "https://localhost:8080/"
        },
        "id": "f72e9e45",
        "outputId": "ca9676c2-1c6e-4dc4-80fc-0bb5b44d0e43"
      },
      "source": [
        "episodes = 10\n",
        "for episode in range(1, episodes+1):\n",
        "    state = env.reset()\n",
        "    done = False\n",
        "    score = 0 \n",
        "    \n",
        "    while not done:\n",
        "        #env.render()\n",
        "        action = env.action_space.sample()\n",
        "        n_state, reward, done, info = env.step(action)\n",
        "        # print(n_state)\n",
        "        # print(action, \" \", dqn.forward(n_state))\n",
        "        score+=reward\n",
        "    print('Episode:{} Score:{}'.format(episode, score))"
      ],
      "id": "f72e9e45",
      "execution_count": 17,
      "outputs": [
        {
          "output_type": "stream",
          "text": [
            "Episode:1 Score:144.4\n",
            "Episode:2 Score:128.2\n",
            "Episode:3 Score:78.9\n",
            "Episode:4 Score:34.0\n",
            "Episode:5 Score:88.7\n",
            "Episode:6 Score:94.7\n",
            "Episode:7 Score:98.0\n",
            "Episode:8 Score:123.39999999999999\n",
            "Episode:9 Score:144.8\n",
            "Episode:10 Score:136.3\n"
          ],
          "name": "stdout"
        }
      ]
    },
    {
      "cell_type": "markdown",
      "metadata": {
        "id": "M3Wlp_n88mKV"
      },
      "source": [
        "## Model\n",
        "Create model using Keras with Tensorflow backend"
      ],
      "id": "M3Wlp_n88mKV"
    },
    {
      "cell_type": "code",
      "metadata": {
        "id": "6c50da4f"
      },
      "source": [
        "import numpy as np\n",
        "from tensorflow.keras.models import Sequential\n",
        "from tensorflow.keras.layers import Dense, Flatten \n",
        "from tensorflow.keras.optimizers import Adam\n",
        "from tensorflow import reshape"
      ],
      "id": "6c50da4f",
      "execution_count": 18,
      "outputs": []
    },
    {
      "cell_type": "code",
      "metadata": {
        "colab": {
          "base_uri": "https://localhost:8080/"
        },
        "id": "6d5ffedb",
        "outputId": "aadeb05f-48d2-4bfb-acbc-c56a85d0c0c7"
      },
      "source": [
        "states = (1, 5, 3)\n",
        "actions = env.action_space.n\n",
        "\n",
        "print(states)\n",
        "print(actions)"
      ],
      "id": "6d5ffedb",
      "execution_count": 19,
      "outputs": [
        {
          "output_type": "stream",
          "text": [
            "(1, 5, 3)\n",
            "5\n"
          ],
          "name": "stdout"
        }
      ]
    },
    {
      "cell_type": "code",
      "metadata": {
        "id": "a3ce7b7d"
      },
      "source": [
        "def build_model(states, actions, l1=32, l2=32, l3=32):\n",
        "    model = Sequential()\n",
        "    model.add(Flatten(input_shape=states))\n",
        "    model.add(Dense(l1, activation='elu'))\n",
        "    model.add(Dense(l2, activation='elu'))\n",
        "    model.add(Dense(l3, activation='elu'))\n",
        "    model.add(Dense(actions, activation='linear'))\n",
        "    return model"
      ],
      "id": "a3ce7b7d",
      "execution_count": 20,
      "outputs": []
    },
    {
      "cell_type": "code",
      "metadata": {
        "id": "250fc9e2"
      },
      "source": [
        "model = build_model(states, actions, 128, 128, 128)\n",
        "#model.save('/drive/bestmodel')"
      ],
      "id": "250fc9e2",
      "execution_count": 26,
      "outputs": []
    },
    {
      "cell_type": "code",
      "metadata": {
        "colab": {
          "base_uri": "https://localhost:8080/"
        },
        "id": "c3f8476b",
        "outputId": "8a9a79aa-8f2a-4c6e-b915-7805c4006315"
      },
      "source": [
        "model.summary()"
      ],
      "id": "c3f8476b",
      "execution_count": 22,
      "outputs": [
        {
          "output_type": "stream",
          "text": [
            "Model: \"sequential\"\n",
            "_________________________________________________________________\n",
            "Layer (type)                 Output Shape              Param #   \n",
            "=================================================================\n",
            "flatten (Flatten)            (None, 15)                0         \n",
            "_________________________________________________________________\n",
            "dense (Dense)                (None, 64)                1024      \n",
            "_________________________________________________________________\n",
            "dense_1 (Dense)              (None, 64)                4160      \n",
            "_________________________________________________________________\n",
            "dense_2 (Dense)              (None, 64)                4160      \n",
            "_________________________________________________________________\n",
            "dense_3 (Dense)              (None, 5)                 325       \n",
            "=================================================================\n",
            "Total params: 9,669\n",
            "Trainable params: 9,669\n",
            "Non-trainable params: 0\n",
            "_________________________________________________________________\n"
          ],
          "name": "stdout"
        }
      ]
    },
    {
      "cell_type": "markdown",
      "metadata": {
        "id": "AJE3Ke-28vAg"
      },
      "source": [
        "## Agent\n",
        "Create DQN agent using model made above and using Epsilon-Q policy"
      ],
      "id": "AJE3Ke-28vAg"
    },
    {
      "cell_type": "code",
      "metadata": {
        "id": "4a279644"
      },
      "source": [
        "from rl.agents import DQNAgent\n",
        "from rl.policy import EpsGreedyQPolicy\n",
        "from rl.memory import SequentialMemory"
      ],
      "id": "4a279644",
      "execution_count": 23,
      "outputs": []
    },
    {
      "cell_type": "code",
      "metadata": {
        "id": "ece47422"
      },
      "source": [
        "def build_agent(model, actions):\n",
        "    policy = EpsGreedyQPolicy()\n",
        "    memory = SequentialMemory(limit=50000, window_length=1)\n",
        "    dqn = DQNAgent(model=model, memory=memory, policy=policy, \n",
        "                  nb_actions=actions, nb_steps_warmup=200, target_model_update=1e-2)\n",
        "    return dqn"
      ],
      "id": "ece47422",
      "execution_count": 24,
      "outputs": []
    },
    {
      "cell_type": "code",
      "metadata": {
        "id": "0d74d601"
      },
      "source": [
        "dqn = build_agent(model, actions)"
      ],
      "id": "0d74d601",
      "execution_count": 278,
      "outputs": []
    },
    {
      "cell_type": "markdown",
      "metadata": {
        "id": "BzZyqWys8_e4"
      },
      "source": [
        "## Fitting And Testing Model"
      ],
      "id": "BzZyqWys8_e4"
    },
    {
      "cell_type": "code",
      "metadata": {
        "id": "ce28b256",
        "colab": {
          "base_uri": "https://localhost:8080/"
        },
        "outputId": "b0954f51-1bb7-4b72-b912-9eb3f3ff8178"
      },
      "source": [
        "dqn.compile(Adam(lr=1e-4), metrics=['mae'])\n",
        "dqn.fit(env, nb_steps=1000, visualize=False, verbose=1)"
      ],
      "id": "ce28b256",
      "execution_count": 279,
      "outputs": [
        {
          "output_type": "stream",
          "text": [
            "Training for 1000 steps ...\n",
            "Interval 1 (0 steps performed)\n"
          ],
          "name": "stdout"
        },
        {
          "output_type": "stream",
          "text": [
            "/usr/local/lib/python3.7/dist-packages/tensorflow/python/keras/engine/training.py:2325: UserWarning: `Model.state_updates` will be removed in a future version. This property should not be used in TensorFlow 2.0, as `updates` are applied automatically.\n",
            "  warnings.warn('`Model.state_updates` will be removed in a future version. '\n"
          ],
          "name": "stderr"
        },
        {
          "output_type": "stream",
          "text": [
            " 1000/10000 [==>...........................] - ETA: 7:33 - reward: -0.0958done, took 55.081 seconds\n"
          ],
          "name": "stdout"
        },
        {
          "output_type": "execute_result",
          "data": {
            "text/plain": [
              "<tensorflow.python.keras.callbacks.History at 0x7f9d47f9ab50>"
            ]
          },
          "metadata": {
            "tags": []
          },
          "execution_count": 279
        }
      ]
    },
    {
      "cell_type": "code",
      "metadata": {
        "colab": {
          "base_uri": "https://localhost:8080/"
        },
        "id": "PnD1UUOFdN_T",
        "outputId": "2ef85ed2-5bf0-4403-f1e1-561b5bf3d333"
      },
      "source": [
        "dqn.compile(Adam(lr=1e-2), metrics=['mae'])\n",
        "dqn.fit(env, nb_steps=15000, visualize=False, verbose=1)"
      ],
      "id": "PnD1UUOFdN_T",
      "execution_count": 280,
      "outputs": [
        {
          "output_type": "stream",
          "text": [
            "Training for 15000 steps ...\n",
            "Interval 1 (0 steps performed)\n"
          ],
          "name": "stdout"
        },
        {
          "output_type": "stream",
          "text": [
            "/usr/local/lib/python3.7/dist-packages/tensorflow/python/keras/engine/training.py:2325: UserWarning: `Model.state_updates` will be removed in a future version. This property should not be used in TensorFlow 2.0, as `updates` are applied automatically.\n",
            "  warnings.warn('`Model.state_updates` will be removed in a future version. '\n"
          ],
          "name": "stderr"
        },
        {
          "output_type": "stream",
          "text": [
            "10000/10000 [==============================] - 444s 44ms/step - reward: -0.2313\n",
            "544 episodes - episode_reward: -4.391 [-1051.300, 163.900] - loss: 400.482 - mae: 10.104 - mean_q: 10.762\n",
            "\n",
            "Interval 2 (10000 steps performed)\n",
            " 5000/10000 [==============>...............] - ETA: 3:44 - reward: 0.8973done, took 668.204 seconds\n"
          ],
          "name": "stdout"
        },
        {
          "output_type": "execute_result",
          "data": {
            "text/plain": [
              "<tensorflow.python.keras.callbacks.History at 0x7f9d47df2d90>"
            ]
          },
          "metadata": {
            "tags": []
          },
          "execution_count": 280
        }
      ]
    },
    {
      "cell_type": "code",
      "metadata": {
        "colab": {
          "base_uri": "https://localhost:8080/"
        },
        "id": "OSO1Q39zyzAh",
        "outputId": "ee45b80e-c41b-4991-8fa2-cf6cce8d12bc"
      },
      "source": [
        "dqn.compile(Adam(lr=0.5*1e-3), metrics=['mse'])\n",
        "dqn.fit(env, nb_steps=5000, visualize=False, verbose=1)"
      ],
      "id": "OSO1Q39zyzAh",
      "execution_count": 281,
      "outputs": [
        {
          "output_type": "stream",
          "text": [
            "Training for 5000 steps ...\n",
            "Interval 1 (0 steps performed)\n"
          ],
          "name": "stdout"
        },
        {
          "output_type": "stream",
          "text": [
            "/usr/local/lib/python3.7/dist-packages/tensorflow/python/keras/engine/training.py:2325: UserWarning: `Model.state_updates` will be removed in a future version. This property should not be used in TensorFlow 2.0, as `updates` are applied automatically.\n",
            "  warnings.warn('`Model.state_updates` will be removed in a future version. '\n"
          ],
          "name": "stderr"
        },
        {
          "output_type": "stream",
          "text": [
            " 4999/10000 [=============>................] - ETA: 3:50 - reward: -1.0084done, took 235.684 seconds\n"
          ],
          "name": "stdout"
        },
        {
          "output_type": "execute_result",
          "data": {
            "text/plain": [
              "<tensorflow.python.keras.callbacks.History at 0x7f9d4787add0>"
            ]
          },
          "metadata": {
            "tags": []
          },
          "execution_count": 281
        }
      ]
    },
    {
      "cell_type": "code",
      "metadata": {
        "colab": {
          "base_uri": "https://localhost:8080/"
        },
        "id": "SfTTEo0C4sLc",
        "outputId": "6f24ba57-cae6-4432-9182-922a84db14a3"
      },
      "source": [
        "dqn.compile(Adam(lr=1e-2), metrics=['mae'])\n",
        "dqn.fit(env, nb_steps=5000, visualize=False, verbose=1)"
      ],
      "id": "SfTTEo0C4sLc",
      "execution_count": 247,
      "outputs": [
        {
          "output_type": "stream",
          "text": [
            "Training for 5000 steps ...\n",
            "Interval 1 (0 steps performed)\n"
          ],
          "name": "stdout"
        },
        {
          "output_type": "stream",
          "text": [
            "/usr/local/lib/python3.7/dist-packages/tensorflow/python/keras/engine/training.py:2325: UserWarning: `Model.state_updates` will be removed in a future version. This property should not be used in TensorFlow 2.0, as `updates` are applied automatically.\n",
            "  warnings.warn('`Model.state_updates` will be removed in a future version. '\n"
          ],
          "name": "stderr"
        },
        {
          "output_type": "stream",
          "text": [
            " 5000/10000 [==============>...............] - ETA: 3:35 - reward: 10.7568done, took 219.978 seconds\n"
          ],
          "name": "stdout"
        },
        {
          "output_type": "execute_result",
          "data": {
            "text/plain": [
              "<tensorflow.python.keras.callbacks.History at 0x7f9d48f57990>"
            ]
          },
          "metadata": {
            "tags": []
          },
          "execution_count": 247
        }
      ]
    },
    {
      "cell_type": "code",
      "metadata": {
        "colab": {
          "base_uri": "https://localhost:8080/"
        },
        "id": "xc0LcYBH40Il",
        "outputId": "8810f8bf-d8b7-4f40-f2bf-4f2bc1d5d2ac"
      },
      "source": [
        "dqn.compile(Adam(lr=0.5*1e-3), metrics=['mse'])\n",
        "dqn.fit(env, nb_steps=15000, visualize=False, verbose=1)"
      ],
      "id": "xc0LcYBH40Il",
      "execution_count": 206,
      "outputs": [
        {
          "output_type": "stream",
          "text": [
            "Training for 15000 steps ...\n",
            "Interval 1 (0 steps performed)\n"
          ],
          "name": "stdout"
        },
        {
          "output_type": "stream",
          "text": [
            "/usr/local/lib/python3.7/dist-packages/tensorflow/python/keras/engine/training.py:2325: UserWarning: `Model.state_updates` will be removed in a future version. This property should not be used in TensorFlow 2.0, as `updates` are applied automatically.\n",
            "  warnings.warn('`Model.state_updates` will be removed in a future version. '\n"
          ],
          "name": "stderr"
        },
        {
          "output_type": "stream",
          "text": [
            " 2355/10000 [======>.......................] - ETA: 4:38 - reward: -0.1851done, took 89.573 seconds\n"
          ],
          "name": "stdout"
        },
        {
          "output_type": "execute_result",
          "data": {
            "text/plain": [
              "<tensorflow.python.keras.callbacks.History at 0x7f9d4b115210>"
            ]
          },
          "metadata": {
            "tags": []
          },
          "execution_count": 206
        }
      ]
    },
    {
      "cell_type": "code",
      "metadata": {
        "id": "ptfPiEZguVzB"
      },
      "source": [
        "model.save('/content/drive/MyDrive/bestmodelyet')\n",
        "del model"
      ],
      "id": "ptfPiEZguVzB",
      "execution_count": 235,
      "outputs": []
    },
    {
      "cell_type": "markdown",
      "metadata": {
        "id": "Fp8M8nGE9GKc"
      },
      "source": [
        "## Different Scheduling Techniques"
      ],
      "id": "Fp8M8nGE9GKc"
    },
    {
      "cell_type": "markdown",
      "metadata": {
        "id": "XfMPgsuIVBw-"
      },
      "source": [
        "### Random Scheduling\n",
        "We schedule a random task by sampling from the action space"
      ],
      "id": "XfMPgsuIVBw-"
    },
    {
      "cell_type": "code",
      "metadata": {
        "colab": {
          "base_uri": "https://localhost:8080/"
        },
        "id": "u-fGrShm44eL",
        "outputId": "9edd8496-9767-45c0-8733-e69c7e16d67b"
      },
      "source": [
        "episodes = 1000\n",
        "scores = 0\n",
        "for episode in range(1, episodes+1):\n",
        "    state = env.reset()\n",
        "    done = False\n",
        "    score = 0 \n",
        "    \n",
        "    while not done:\n",
        "        #env.render()\n",
        "        action = env.action_space.sample()\n",
        "        n_state, reward, done, info = env.step(action)\n",
        "        # print(n_state)\n",
        "        # print(action, \" \", dqn.forward(n_state))\n",
        "        score+=reward\n",
        "    scores += score\n",
        "print('Episodes:{} Score:{}'.format(episodes, scores/episodes))"
      ],
      "id": "u-fGrShm44eL",
      "execution_count": 46,
      "outputs": [
        {
          "output_type": "stream",
          "text": [
            "Episodes:1000 Score:114.91079999999998\n"
          ],
          "name": "stdout"
        }
      ]
    },
    {
      "cell_type": "markdown",
      "metadata": {
        "id": "lF4iBH7t9Xy-"
      },
      "source": [
        "### Scheduling using RL agent\n",
        "We use the best performing model stored and use it for scheduling tasks"
      ],
      "id": "lF4iBH7t9Xy-"
    },
    {
      "cell_type": "code",
      "metadata": {
        "colab": {
          "base_uri": "https://localhost:8080/"
        },
        "id": "Mw03VHHh94ay",
        "outputId": "1b3b3793-b1fe-4078-ef67-ac4ab9fce6e8"
      },
      "source": [
        "from google.colab import drive\n",
        "drive.mount('/content/drive/', force_remount=True)  "
      ],
      "id": "Mw03VHHh94ay",
      "execution_count": 48,
      "outputs": [
        {
          "output_type": "stream",
          "text": [
            "Mounted at /content/drive/\n"
          ],
          "name": "stdout"
        }
      ]
    },
    {
      "cell_type": "code",
      "metadata": {
        "colab": {
          "base_uri": "https://localhost:8080/"
        },
        "id": "N7Zv9Cnz86vW",
        "outputId": "f2700819-2f6f-43f5-8855-b4084d908e53"
      },
      "source": [
        "from tensorflow import keras\n",
        "model1 = keras.models.load_model('/content/drive/MyDrive/bestmodelyet')\n",
        "dqn = build_agent(model1, actions)\n",
        "\n",
        "def calc_score(dqn, episodes = 1000):\n",
        "  scores = 0\n",
        "  for episode in range(1, episodes+1):\n",
        "      state = env.reset()\n",
        "      done = False\n",
        "      score = 0\n",
        "      i = 0\n",
        "      \n",
        "      while not done:\n",
        "          #env.render()\n",
        "          action = dqn.forward(state)\n",
        "          state, reward, done, info = env.step(action)\n",
        "          # print(n_state)\n",
        "          # print(action, \" \", dqn.forward(n_state))\n",
        "          score+=reward\n",
        "          i += 1\n",
        "          if i > 100:\n",
        "            break\n",
        "            # print(state)\n",
        "      scores += score\n",
        "\n",
        "  print('Episodes:{} Score:{}'.format(episodes, scores/episodes))\n",
        "  return scores/episodes\n",
        "\n",
        "calc_score(dqn)"
      ],
      "id": "N7Zv9Cnz86vW",
      "execution_count": 45,
      "outputs": [
        {
          "output_type": "stream",
          "text": [
            "/usr/local/lib/python3.7/dist-packages/tensorflow/python/keras/engine/training.py:2325: UserWarning: `Model.state_updates` will be removed in a future version. This property should not be used in TensorFlow 2.0, as `updates` are applied automatically.\n",
            "  warnings.warn('`Model.state_updates` will be removed in a future version. '\n"
          ],
          "name": "stderr"
        },
        {
          "output_type": "stream",
          "text": [
            "Episodes:1000 Score:135.43469999999985\n"
          ],
          "name": "stdout"
        },
        {
          "output_type": "execute_result",
          "data": {
            "text/plain": [
              "135.43469999999985"
            ]
          },
          "metadata": {
            "tags": []
          },
          "execution_count": 45
        }
      ]
    },
    {
      "cell_type": "markdown",
      "metadata": {
        "id": "Ik0qOYBa9tvg"
      },
      "source": [
        "### FCFS\n",
        "Scheduling the first task and the moving to the next"
      ],
      "id": "Ik0qOYBa9tvg"
    },
    {
      "cell_type": "code",
      "metadata": {
        "colab": {
          "base_uri": "https://localhost:8080/"
        },
        "id": "7iy8ghdy9bSl",
        "outputId": "8e1ee68d-abfa-42c2-87a5-493b9fcfd1b2"
      },
      "source": [
        "  episodes = 10000\n",
        "scores = 0\n",
        "for episode in range(1, episodes+1):\n",
        "    state = env.reset()\n",
        "    done = False\n",
        "    score = 0 \n",
        "    i = 0\n",
        "    \n",
        "    while not done:\n",
        "        #env.render()\n",
        "        action = i\n",
        "        i = i+1\n",
        "        if i > 5: break\n",
        "        state, reward, done, info = env.step(action)\n",
        "        # print(n_state)\n",
        "        # print(action, \" \", dqn.forward(n_state))\n",
        "        score+=reward\n",
        "    scores += score\n",
        "print('Episodes:{} Score:{}'.format(episodes, scores/episodes))"
      ],
      "id": "7iy8ghdy9bSl",
      "execution_count": 47,
      "outputs": [
        {
          "output_type": "stream",
          "text": [
            "Episodes:10000 Score:120.36871999999983\n"
          ],
          "name": "stdout"
        }
      ]
    },
    {
      "cell_type": "code",
      "metadata": {
        "id": "A3kcIm558sEw"
      },
      "source": [
        ""
      ],
      "id": "A3kcIm558sEw",
      "execution_count": 262,
      "outputs": []
    },
    {
      "cell_type": "code",
      "metadata": {
        "id": "PD5hF1DQEB8f"
      },
      "source": [
        ""
      ],
      "id": "PD5hF1DQEB8f",
      "execution_count": null,
      "outputs": []
    }
  ]
}